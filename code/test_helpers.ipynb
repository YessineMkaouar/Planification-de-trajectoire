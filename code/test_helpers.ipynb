{
 "cells": [
  {
   "cell_type": "code",
   "execution_count": 16,
   "metadata": {},
   "outputs": [
    {
     "name": "stdout",
     "output_type": "stream",
     "text": [
      "['(1,0)', '(1,2)', '(3,0)', '(3,2)', '(5,1)', '(4,4)', '(7,0)', 'Fin', '(0,0)', '(1,2)', '(4,4)', '(5,3)', '7.25583']\n"
     ]
    }
   ],
   "source": [
    "def run_command(command):\n",
    "    import subprocess\n",
    "    try:\n",
    "        subprocess.run(command, shell=True, check=True)  # Exécute la commande spécifiée dans un sous-processus\n",
    "    except subprocess.CalledProcessError as e:\n",
    "        print(f\"Échec de l'exécution de la commande avec le code d'erreur {e.returncode} : {e.output}\")\n",
    "\n",
    "def run_main():\n",
    "    import subprocess\n",
    "    command = \"g++ main.cpp Point.cpp Segment.cpp Vecteur.cpp fonctions.cpp Graphe.cpp Arc.cpp obstacle.cpp -std=c++17 -o main\"\n",
    "    run_command(command)  # Exécute la commande pour compiler le programme principal\n",
    "    output = subprocess.check_output([\"./main\"])  # Lit la sortie du programme principal\n",
    "    best = output.decode('utf-8').split()  # Convertit la sortie en liste\n",
    "    return best\n",
    "\n",
    "l=run_main()\n",
    "print(l)\n"
   ]
  },
  {
   "cell_type": "code",
   "execution_count": 22,
   "metadata": {},
   "outputs": [
    {
     "name": "stdout",
     "output_type": "stream",
     "text": [
      "[(1.0, 0.0), (1.0, 2.0), (3.0, 0.0), (3.0, 2.0), (5.0, 1.0), (4.0, 4.0), (7.0, 0.0)]\n"
     ]
    }
   ],
   "source": [
    "points_str = ['(1,0)', '(1,2)', '(3,0)', '(3,2)', '(5,1)', '(4,4)', '(7,0)']\n",
    "\n",
    "# Fonction pour convertir une chaîne de caractères en tuple de coordonnées\n",
    "def str_to_tuple(point_str):\n",
    "    point_str = point_str.strip('()')  # Supprimer les parenthèses\n",
    "    x, y = point_str.split(',')  # Séparer les coordonnées\n",
    "    return (float(x), float(y))  # Convertir en float et retourner le tuple\n",
    "\n",
    "\n"
   ]
  },
  {
   "cell_type": "code",
   "execution_count": 24,
   "metadata": {},
   "outputs": [
    {
     "name": "stdout",
     "output_type": "stream",
     "text": [
      "['(1,0)', '(1,2)', '(3,0)', '(3,2)', '(5,1)', '(4,4)', '(7,0)']\n",
      "['(0,0)', '(1,2)', '(4,4)', '(5,3)']\n"
     ]
    }
   ],
   "source": [
    "obstacle_ch = l[0:l.index(\"Fin\")]\n",
    "chemin_optimal_ch = l[l.index(\"Fin\")+1:-1]\n",
    "distance_min = l[-1]\n",
    "print(obstacle_ch)\n",
    "print(chemin_optimal_ch)"
   ]
  },
  {
   "cell_type": "code",
   "execution_count": 25,
   "metadata": {},
   "outputs": [
    {
     "name": "stdout",
     "output_type": "stream",
     "text": [
      "[(1.0, 0.0), (1.0, 2.0), (3.0, 0.0), (3.0, 2.0), (5.0, 1.0), (4.0, 4.0), (7.0, 0.0)]\n",
      "[(0.0, 0.0), (1.0, 2.0), (4.0, 4.0), (5.0, 3.0)]\n"
     ]
    }
   ],
   "source": [
    "# Transformer la liste de chaînes en une liste de tuples\n",
    "obstacle = [str_to_tuple(point_str) for point_str in obstacle_ch]\n",
    "chemin_optimal = [str_to_tuple(point_str) for point_str in chemin_optimal_ch]\n",
    "\n",
    "print(obstacle)\n",
    "print(chemin_optimal)"
   ]
  },
  {
   "cell_type": "code",
   "execution_count": 26,
   "metadata": {},
   "outputs": [
    {
     "data": {
      "image/png": "[encoded data removed]",
      "text/plain": [
       "<Figure size 432x288 with 1 Axes>"
      ]
     },
     "metadata": {
      "needs_background": "light"
     },
     "output_type": "display_data"
    }
   ],
   "source": [
    "import matplotlib.pyplot as plt\n",
    "from matplotlib.patches import Polygon\n",
    "\n",
    "def plot_obstacle(obstacle):\n",
    "    fig, ax = plt.subplots()\n",
    "    poly = Polygon(obstacle, closed=True, facecolor='red', edgecolor='black', alpha=0.5)\n",
    "    ax.add_patch(poly)\n",
    "\n",
    "def plot_path(path):\n",
    "    x, y = zip(*path)\n",
    "    plt.plot(x, y, color='blue', linestyle='-', marker='o', markersize=6)\n",
    "\n",
    "def plot_obstacle_and_path(obstacle, path):\n",
    "    plot_obstacle(obstacle)\n",
    "    plot_path(path)\n",
    "    plt.xlabel('X')\n",
    "    plt.ylabel('Y')\n",
    "    plt.title('Obstacle and Optimal Path')\n",
    "    plt.grid(True)\n",
    "    plt.show()\n",
    "\n",
    "plot_obstacle_and_path(obstacle, chemin_optimal)\n"
   ]
  },
  {
   "cell_type": "code",
   "execution_count": 29,
   "metadata": {},
   "outputs": [
    {
     "name": "stdout",
     "output_type": "stream",
     "text": [
      "Points du polygone avec la plus grande surface : [(1.0, 0.0), (3.0, 0.0), (7.0, 0.0), (4.0, 4.0), (1.0, 2.0)]\n",
      "Surface du polygone : 15.0\n"
     ]
    }
   ],
   "source": [
    "import math\n",
    "\n",
    "def orientation(p, q, r):\n",
    "    val = (q[1] - p[1]) * (r[0] - q[0]) - (q[0] - p[0]) * (r[1] - q[1])\n",
    "    if val == 0:\n",
    "        return 0\n",
    "    return 1 if val > 0 else 2\n",
    "\n",
    "def convex_hull(points):\n",
    "    n = len(points)\n",
    "    if n < 3:\n",
    "        return None\n",
    "    \n",
    "    hull = []\n",
    "    l = 0\n",
    "    for i in range(1, n):\n",
    "        if points[i][0] < points[l][0]:\n",
    "            l = i\n",
    "    \n",
    "    p = l\n",
    "    q = 0\n",
    "    while True:\n",
    "        hull.append(points[p])\n",
    "        q = (p + 1) % n\n",
    "        for i in range(n):\n",
    "            if orientation(points[p], points[i], points[q]) == 2:\n",
    "                q = i\n",
    "        p = q\n",
    "        if p == l:\n",
    "            break\n",
    "    \n",
    "    return hull\n",
    "\n",
    "def area_of_polygon(points):\n",
    "    n = len(points)\n",
    "    area = 0\n",
    "    for i in range(n):\n",
    "        j = (i + 1) % n\n",
    "        area += points[i][0] * points[j][1] - points[j][0] * points[i][1]\n",
    "    return abs(area) / 2\n",
    "\n",
    "def max_area_polygon(obstacles):\n",
    "    convex_polygon = convex_hull(obstacles)\n",
    "    max_area = 0\n",
    "    max_polygon = None\n",
    "    for i in range(len(convex_polygon)):\n",
    "        for j in range(i + 2, len(convex_polygon)):\n",
    "            area = area_of_polygon(convex_polygon[i:j+1])\n",
    "            if area > max_area:\n",
    "                max_area = area\n",
    "                max_polygon = convex_polygon[i:j+1]\n",
    "    return max_polygon\n",
    "\n",
    "\n",
    "max_polygon = max_area_polygon(obstacle)\n",
    "print(\"Points du polygone avec la plus grande surface :\", max_polygon)\n",
    "print(\"Surface du polygone :\", area_of_polygon(max_polygon))\n",
    "\n"
   ]
  },
  {
   "cell_type": "code",
   "execution_count": 31,
   "metadata": {},
   "outputs": [
    {
     "data": {
      "image/png": "[encoded data removed]",
      "text/plain": [
       "<Figure size 432x288 with 1 Axes>"
      ]
     },
     "metadata": {
      "needs_background": "light"
     },
     "output_type": "display_data"
    }
   ],
   "source": [
    "import matplotlib.pyplot as plt\n",
    "\n",
    "def plot_polygon(points):\n",
    "    x = [point[0] for point in points]\n",
    "    y = [point[1] for point in points]\n",
    "    plt.plot(x, y, '-o')\n",
    "\n",
    "# Utilisez la fonction max_area_polygon pour obtenir le polygone avec la plus grande surface\n",
    "max_polygon = max_area_polygon(obstacle)\n",
    "\n",
    "# Afficher les points du polygone\n",
    "plot_polygon(max_polygon)\n",
    "\n",
    "# Définir les limites des axes pour une meilleure visualisation\n",
    "plt.xlim(min(p[0] for p in obstacle) - 1, max(p[0] for p in obstacle) + 1)\n",
    "plt.ylim(min(p[1] for p in obstacle) - 1, max(p[1] for p in obstacle) + 1)\n",
    "\n",
    "# Afficher le graphique\n",
    "plt.gca().set_aspect('equal', adjustable='box')\n",
    "plt.grid(True)\n",
    "plt.show()\n"
   ]
  }
 ],
 "metadata": {
  "kernelspec": {
   "display_name": "Python 3",
   "language": "python",
   "name": "python3"
  },
  "language_info": {
   "codemirror_mode": {
    "name": "ipython",
    "version": 3
   },
   "file_extension": ".py",
   "mimetype": "text/x-python",
   "name": "python",
   "nbconvert_exporter": "python",
   "pygments_lexer": "ipython3",
   "version": "3.10.5"
  }
 },
 "nbformat": 4,
 "nbformat_minor": 2
}
